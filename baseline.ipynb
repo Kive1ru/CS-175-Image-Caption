{
 "cells": [
  {
   "cell_type": "code",
   "execution_count": 2,
   "metadata": {},
   "outputs": [],
   "source": [
    "import torch\n",
    "import torch.nn as nn"
   ]
  },
  {
   "cell_type": "code",
   "execution_count": null,
   "metadata": {},
   "outputs": [],
   "source": [
    "class ImageEncoder(nn.module):\n",
    "    def __init__(self, img_shape):\n",
    "        self.layer = nn.Sequential(\n",
    "            nn.Conv2d(3, 20, 3, 1),\n",
    "            nn.Conv2d(20, 20, 3, 1)\n",
    "        )\n",
    "\n",
    "class BaselineRNN(nn.module):\n",
    "    def __init__(self, img_shape):\n",
    "        pass"
   ]
  }
 ],
 "metadata": {
  "kernelspec": {
   "display_name": "Python 3.10.4 ('NLP')",
   "language": "python",
   "name": "python3"
  },
  "language_info": {
   "codemirror_mode": {
    "name": "ipython",
    "version": 3
   },
   "file_extension": ".py",
   "mimetype": "text/x-python",
   "name": "python",
   "nbconvert_exporter": "python",
   "pygments_lexer": "ipython3",
   "version": "3.10.4"
  },
  "orig_nbformat": 4,
  "vscode": {
   "interpreter": {
    "hash": "60951fe2ccac1c258907b209f658f6ef884c93d9ccb3f36667a6035df696e51a"
   }
  }
 },
 "nbformat": 4,
 "nbformat_minor": 2
}
